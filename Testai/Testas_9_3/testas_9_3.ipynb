{
 "cells": [
  {
   "cell_type": "markdown",
   "metadata": {
    "collapsed": true,
    "pycharm": {
     "is_executing": true
    }
   },
   "source": [
    "### `Testas_9_6`\n",
    "\n",
    "1. Reiškinio A(x) reikšmės nusakomos tokia taisykle: prie trigubos x reikšmės pridedamas 1, ir gauta suma pakeliama kvadratu. Nustatykite, kuriuo atveju reiškinys užrašytas teisingai:  \n",
    "   * $A(x)=\\left(3(x+1)^2\\right)^2$\n",
    "   * $A(x)=(3x)^2+1$\n",
    "   * $A(x)=3(x+1)^2$\n",
    "   * $A(x) = (3x+1)^2$  \n",
    " \n",
    "2. Duotas reiškinys $f(x)=-x^3+2x$. Apskaičiuokite $f(-3)$  \n",
    "\n",
    "3. Su kuria $x$ reikšme reiškinys $g(x)=\\frac{x+8}{9}$ lygus 2?  \n",
    "\n",
    "4. Kuris iš žemiau pateiktų taškų priklauso reiškinio $f(x)=−5x+6$ grafikui?\n",
    "  * (-1; 1)\n",
    "  * (-2; 16)\n",
    "  * (-4; 2)\n",
    "  * (1; -1)\n",
    "  \n",
    "5. Kuri iš žemiau pateiktų tiesių yra reiškinio $f(x)=2x+1$ grafikas?  \n",
    "<img src=\"image_9_3_5.png\" width=\"300\"/> \n",
    "\n",
    "6. Kuris teiginys apie reiškinio $g(x)= −8$ grafiką yra teisingas?  \n",
    "\n",
    "   * Grafikas yra tiesė, lygiagreti su Ox ašimi ir kertanti Oy ašį taške (0;-8).\n",
    "   * Grafikas yra tiesė, lygiagreti su Oy ašimi ir kertanti Ox ašį taške (-8;0).\n",
    "   * Grafikas yra tiesė, nelygiagreti nė su viena koordinačių plokštumos ašimi.\n",
    "   * Grafikas nėra tiesė.\n",
    "\n",
    "7. Kuriuose ketvirčiuose yra išsidėstęs reiškinio $f(x)=\\dfrac{4}{x}$ grafikas?\n",
    "\n",
    "8. Hiperbolės $y=\\frac{a}{x}$ grafikas eina per tašką $(−5;3)$. Raskite $a$ reikšmę.\n",
    "\n",
    "9. Žemiau pateiktas parabolės $y=ax^2+c$ grafikas. Nustatykite koeficientų $a$ ir $c$ reikšmes. Atsakyme nurodykite jas atskirdami kabliataškiu.  \n",
    "<img src=\"image_9_3_9.png\" width=\"300\"/> \n",
    "\n",
    "10. Žemiau pateiktas kubinės parabolės $y=ax^3+c$ grafikas. Nustatykite koeficientų $a$ ir $c$ reikšmes. Atsakyme nurodykite jas atskirdami kabliataškiu.  \n",
    "<img src=\"image_9_3_10.png\" width=\"300\"/>\n",
    "\n",
    "11. Kurio reiškinio grafikui priklauso taškas $(−2;2)$?\n",
    "\n",
    "    * $f(x) = x^2-6$\n",
    "    * $f(x) = x^3-6$\n",
    "    * $f(x)=-\\dfrac{4}{x}$\n",
    "    * $f(x)=\\dfrac{1}{2}x-3$\n",
    "\n",
    "12. Kurios lygties grafinis sprendimas nurodytas žemiau?    \n",
    "<img src=\"image_9_3_12.png\" width=\"300\"/>\n",
    "\n",
    "    * $\\dfrac{4}{5} x+2=-\\dfrac{3}{x}$\n",
    "    * $\\dfrac{3}{x}=x^2+2$\n",
    "    * $-\\dfrac{3}{x}=x^2+2$\n",
    "    * $x^2+2=-\\dfrac{4}{5}x-2$  \n",
    "    \n",
    "13. Grafiniu būdu nustatykite lygties $x^3+1=\\frac{2}{x}$ sprendinių skaičių.  \n",
    "\n",
    "14. Grafiniu būdu išspręskite nelygybę $\\dfrac{8}{x}\\le x^2$ ir nurodykite jos sprendinių aibę."
   ]
  }
 ],
 "metadata": {
  "kernelspec": {
   "display_name": "Python 3 (ipykernel)",
   "language": "python",
   "name": "python3"
  },
  "language_info": {
   "codemirror_mode": {
    "name": "ipython",
    "version": 3
   },
   "file_extension": ".py",
   "mimetype": "text/x-python",
   "name": "python",
   "nbconvert_exporter": "python",
   "pygments_lexer": "ipython3",
   "version": "3.9.13"
  }
 },
 "nbformat": 4,
 "nbformat_minor": 1
}
