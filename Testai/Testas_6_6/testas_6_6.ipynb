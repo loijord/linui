{
 "cells": [
  {
   "cell_type": "markdown",
   "metadata": {
    "collapsed": true
   },
   "source": [
    "### `Testas_6_6`\n",
    "\n",
    "1\\. Koordinačių plokštumoje pažymėtas taškas. Nurodykite jo koordinates \n",
    "<img src=\"image_6_6_1.png\" width=\"300\"/>\n",
    "2\\. Koordinačių plokštumoje pradėtas braižyti stačiakampis $ABCD$, kurio perimetras lygus $14$. Pabaikite jį braižyti ir nurodykite viršūnės $D$ koordinates. \n",
    "<img src=\"image_6_6_2.png\" width=\"300\"/>\n",
    "3\\. Koordinačių plokštumoje pažymėtas taškas $(10; 9)$. Nuo šio taško paeinama $4$ vienetus į apačią, vėliau $2$ vienetus į kairę, tada $7$ vienetus į viršų ir $3$ vienetus į dešinę. Kokiame taške dabar esame?\n",
    "4\\. Šalia mėlyno stačiakampio tam tikru masteliu pavaizduota žalios spalvos šio stačiakampio kopija. Nurodykite jos mastelį. <img src=\"image_6_6_4.png\" width=\"300\"/>\n",
    "5\\. Šalia mėlyno trikampio tam tikru masteliu pavaizduota žalios spalvos šio trikampio kopija. Nurodykite jos mastelį.\n",
    "<img src=\"image_6_6_5.png\" width=\"300\"/>\n",
    "6\\. Šalia mėlyno trikampio pavaizduoti keturi žali, iš kurių tik vienas yra teisingai tam tikru masteliu pavaizduota mėlyno trikampio kopija. Nurodykite jos mastelį.\n",
    "<img src=\"image_6_6_6.png\" width=\"300\"/>\n",
    "7\\. Lukas žemėlapyje, kurio mastelis nurodytas $1:1500000$, išmatavo atstumą tarp miestų ir gavo $6.4$ cm. Vėliau pagal mastelį jis apskaičiavo realų atstumą tarp miestų. Kiek kilometrų jis gavo?  \n",
    "8\\. Per gamtos pažinimo pamoką Skaistė nupiešė vabzdžio, kurio realus ilgis $15$ mm, padidintą vaizdą. Kokiu masteliu mergaitė nupiešė vabzdį, jei piešinyje vabzdžio ilgis $6$ cm?  \n",
    "9\\. Norėdamas apskaičiuoti namo, kuriame gyvena Tadas, aukštį jis sugalvojo save nufotograguoti šalia jo. Po to berniukas išsimatavo savo tikrą ūgį, o tada nuotraukoje. Gauti rezultatai buvo $1$ m $40$ cm ir $4$ cm. Galiausiai Tadas išmatavo namo aukštį nuotraukoje ir gavo $12$ cm. Vėliau atlikus reikalingus skaičiavimus berniukas surado namo aukštį tikrovėje. Kokį atsakymą metrais jis gavo?\n",
    "<img src=\"image_6_6_9.png\" width=\"300\"/>  \n",
    "10\\. Perkant $4$ vienodus rašiklius sumokama $2.4$ eurų. Kiek eurų kainuos $10$ tokių rašiklių?  \n",
    "11\\. $250$ g braškių parduotuvėje kainuoja $1,6$ euro. Kiek gramų braškių galima nusipirkti už $8$ eurus?  \n",
    "12\\. Trys dviratininkai važiuoja keliu. Pirmasis per $\\displaystyle 2\\frac{2}{3}$ valandos nuvažiavo $48$ km, antrasis per $35$ valandos nuvažiavo $10.2$ km, o trečiasis per $3.2$ valandos nuvažiavo $57.6$ km. Kuris iš žemiau pateiktų teiginių yra teisingas?\n",
    "  * Pirmasis dviratininkas važiavo greičiausiai, antrasis lėčiausiai, o trečiasis važiavo lėčiau už pirmąjį, bet greičiau už antrąjį dviratininką.\n",
    "  * Pirmasis dviratininkas važiavo tuo pačiu greičiu kaip ir trečiasis, o antrasis dviratininkas važiavo lėčiausiai.\n",
    "  * Visi dviratininkai važiavo tuo pačiu greičiu.\n",
    "  * Pirmasis dviratininkas važiavo tuo pačiu greičiu kaip ir antrasis, o trečiasis dviratininkas važiavo lėčiausiai.  \n",
    "  \n",
    "13\\. Buvo atliekamas eksperimentas. Ant spyruoklės kaskart buvo kabinamas skirtingos masės svarelis ir žiūrima, kiek pailgės spyruoklė. Gauti rezultatai buvo pavaizduoti grafiku: \n",
    "<img src=\"image_6_6_13.png\" width=\"300\"/>\n",
    "Remdamiesi grafiku nustatykite:  \n",
    "    a) Kiek centrimetrų išsistempia spyruoklė prie jos prikabinus $300$ g svarelį?  \n",
    "    b) Kiek gramų sveriantį svarelį reikia prikabinti norint, jog spyruoklė pailgėtų $18$ cm?  \n",
    "14\\. Žemiau pavaizduotos dvi lentelės, kuriose pateiktos tarpusavyje susijusių dydžių $x$ ir $y$ reikšmės. Nustatykite, kuriuo atveju dydžiai yra tiesiogiai proporcingi ir baigę pildyti tą lentelę nurodykite $a$ ir $b$ reikšmes.\n",
    "<img src=\"image_6_6_14.png\" width=\"300\"/>  \n",
    "15\\. Ritos, jos draugės Gretos namai ir parduotuvė yra vietovėse, kurias jungia keliai, sudarantys lygiakraštį trikampį (žiūrėti paveikslėlį). Mergaitės tuo pačiu metu išeina iš savo namų parduotuvės link. Rita eina $4$ km/h greičiu, o Greta $6$ km/h greičiu. Kiek minučių pirma į parduotuvę atėjusi Greta lauks savo draugės, jei žinoma, jog mergaičių namus skiria $480$ m. atstumas?\n",
    "<img src=\"image_6_6_15.png\" width=\"300\"/>"
   ]
  }
 ],
 "metadata": {
  "kernelspec": {
   "display_name": "Python 3 (ipykernel)",
   "language": "python",
   "name": "python3"
  },
  "language_info": {
   "codemirror_mode": {
    "name": "ipython",
    "version": 3
   },
   "file_extension": ".py",
   "mimetype": "text/x-python",
   "name": "python",
   "nbconvert_exporter": "python",
   "pygments_lexer": "ipython3",
   "version": "3.9.13"
  }
 },
 "nbformat": 4,
 "nbformat_minor": 1
}
