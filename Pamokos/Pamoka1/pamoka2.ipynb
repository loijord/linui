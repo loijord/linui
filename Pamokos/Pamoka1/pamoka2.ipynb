{
 "cells": [
  {
   "cell_type": "markdown",
   "metadata": {
    "pycharm": {
     "is_executing": true
    }
   },
   "source": [
    "# Įžanga\n",
    "### Pagr. matematinės sąvokos\n",
    "\n",
    "* Pačią matematiką galima apibrėžti įvairiai, nes priimto vieningo apibrėžimo nėra. Pavyzdžiui:\n",
    "    * tiksliai apibrėžtų objektų tyrimas remiantis dedukciniu samprotavimu arba tokiu būdu gautos žinios.\n",
    "    * kultūros dalis, samprotavimu įprasminanti žmonijos praktinę ir pažintinę veiklą.\n",
    "* Objektas - tai, į ką nukreipta pažintinė veikla.\n",
    "* Procedūra - tai žingsnių seka, kurios laikantis iš vienos ar kelių reikšmių išvedama (vienareikšmiškai apibrėžta) viena reikšmė, vadinama tos procedūros rezultatu. Pvz. dalyba kampu.\n",
    "* Atsakymas - (ne visai sutampa su rezultatu) atsakant į klausimą pateikiama informacija arba uždavinio sprendimo rezultatas.\n",
    "* Operacija - funkcija (atitiktis), pagal kurią iš vienos ar kelių reikšmių gaunama viena reikšmė. \n",
    "* Skaičius - tai matematinis objektas naudojamas skaičiavime, matavime arba žymėjimui.\n",
    "* Skaičiavimas - procedūra, kurios metu objektams yra priskiriami skaičių vardai. Pvz. suma ,,2 + 3\" turi skaičiaus vardą ,,5\"\n",
    "* Matavimas - procedūra, kurios metu objektų savybėms yra priskiriami dydžiai. Pvz. atkarpos pamatavimas būtų dydžio ,,3cm\" priskyrimas atstumui tarp dviejų taškų naudojant liniuotę.\n",
    "* Dydis - tai savybė, kuriai priskiriamas skaičius pasirenkant matavimo vienetą. Pvz. 3 cm, 2 laipsniai, 220 voltų.\n",
    "* Reikšmė - tai priskiriamas matematinis objektas (dažniausiai skaičius).\n",
    "* Aibė - (supaprastintai), skirtingų objektų, vadinamų jos elementais, rinkinys. Pvz. natūraliųjų skaičių aibė - visi skaičiai, kuriais galime suskaičiuoti nedalomus daiktus.\n",
    "* Kintamasis - reikšmė, kuria žymimas bet kuris objektas iš kurios nors aibės, vadinamos kitimo sritimi. Pvz. atstumo tarp dviejų taškų reikšmė priklauso teigiamų skaičių aibei.\n",
    "* Reiškinys - tai matematinė frazė, sudaryta iš skaičių, veiksmų, skliaustų ir kt. Pvz. skaičių ,,a ir 2 suma, pakelta kvadratu\", dar žymima (a + 2)². "
   ]
  },
  {
   "cell_type": "markdown",
   "metadata": {},
   "source": [
    "### Greita viso mokyklinio kurso apžvalga\n",
    "* Pradinėse klasėse - aritmetika. Dirbama tik su skaičiais, be kintamųjų\n",
    "* Vidurinėse klasėse - pagrinde daugianarių ir vienanarių algebra. Pagrinde mokomasi, kaip suprastinti reiškinius, kuriuose yra tik kintamieji, vienanariai ir daugianariai.\n",
    "  * 5 klasė: susipažįstama su kintamaisiais ir nežinomaisiais (nežinomieji ir yra kintamieji, tik skiriasi tuo, kad yra keliamas tikslas rasti reikšmes, su kuriomis tam tikros lygybės tampa teisingomis)\n",
    "  * 6 klasė: susipažįstama su trupmenomis, pirmą kartą susipažįstama, kaip atvaizduoti taškus koordinatėse.\n",
    "  * 7 klasė: susipažįstama su neigiamais skaičiais, pratinamasi prie įv. vienanarių ir daugianarių operacijų\n",
    "  * 8 klasė iškrinta iš konteksto. Pradedama dirbti su šaknimis ir laipsniais, sprendžiamos nepilnos kvadratinės lygtys, susipažįstama su funkcijomis, t.y. koordinatėse vaizduojami ne tik taškai, bet ir linijos, atitinkančios reiškinių reikšmes.\n",
    "* Vyresnėse klasėse šalia elementarios algebros (lygčių, nelygybių, vienanarių, daugianarių, šaknų ir laipsnių) daugiau viskas nagrinėjama funkcijos sąvokos aspektu ($\\log$, $\\sin$, laipsniai su trupmeninais rodikliais, nekvadratinės šaknys, kvadratinės ir tiesinės funkcijos ir t.t.) Šie objektai daug abstraktesni, nei palyginus nesudėtinga $5 - 8$ klasių algebra."
   ]
  },
  {
   "cell_type": "markdown",
   "metadata": {},
   "source": [
    "Šiek tiek terminų.\n",
    "\n",
    "### Apie įvairius narius...\n",
    "\n",
    "*  **Vienanaris** - kelių dauginamųjų sandauga, kai kiekvienas iš jų yra skaičius, kintamasis arba kintamojo laipsnis. Paprastai vienanariu laikomas ir atskiras skaičius arba kintamasis. Pavyzdžiui, $4$, $3a$, $4c^2d$ yra vienanariai. \n",
    "*  Vienanario **raidine dalimi** vadinama ta sandaugos dalis, kurią sudaro tik kintamieji arba jų laipsniai, o **skaitine dalimi** - skaitinis daugiklis, pvz.: vienanario $-4c^2d$ skaitinė dalis yra $-4$, o raidinė dalis yra $c^2d$.\n",
    "* Pagal nutylėjimą skaitinės dalys, lygios $-1$ ir $1$ nerašomos, pvz. nariuose $x^2$ ir $-x^2$\n",
    "* **Panašiaisiais nariais** vadinami vienanariai, turintys vienodą raidinę dalį, pvz. $3x$ ir $-4x$ (bendra raidinė dalis būtų $x$)\n",
    "* **Laisvaisiais nariais** vadinami vienanariai, neturintys raidinės dalies. Iš esmės - paparasti skaičiai be kintamųjų. Pvz. reiškinyje $3x-4$ laisvasis narys yra  $-4$\n",
    "* **Panašiųjų narių sutraukimu** vadinamas procesas, kai sudedamos (atimamos) dviejų ar daugiau narių skaitinės dalys. Tokiu atveju (griežtai!) raidinė dalis išlieka nepakitusi. Pvz.:  $1 + 3x^2 - 7x + 8x - 8x^2 - 1 = -5x^2 + x$\n",
    "* Kartais po sutraukimo gali ir nieko nelikti (t.y. likti tik 0). Pvz. ankstesniame pavyzdyje susiprastino $1$ ir $-1$\n",
    "* Pagal nutylėjimą patogiausia reiškiniuose vienanarius rikiuoti laipsnių mažėjimo tvarka. Pvz. suprastinus tam tikrą rašyti $-4x^2+3x-5$ nei tarkim $3x - 5 - 4x^2$\n",
    "* Vienas šalia kito parašytų vienanarių ,,krūva\", perskirta $-$ ir $+$ ženklais, reiškia vienanarių sumą. Pvz.: rašant $-4x^2+3x-5$ reiktų turėti mintyje, kad tai yra skirtingų vienanarių $-4x^2$, $3x$ ir $-5$ suma.\n",
    "* Tokia vienanarių suma vadinama **daugianariu**. Taigi, $-4x^2+3x-5$ yra daugianaris, tiksliau kvadratinis trinaris.\n",
    "\n",
    "### Apie dydžius\n",
    "* Kas bendro tarp $4x+3x$, $4cm+3cm$, $4\\sqrt[3]{26} + 3\\sqrt[3]{26}$, $\\frac{4}{5}+\\frac{3}{5}$ ir net gi $4(x^2+1) + 3(x^2+1)$?\n",
    "* Dydis - tai savybė, kuriai priskiriamas skaičius pasirenkant matavimo vienetą. Pvz. svoris - tai dydis, kuris apibūdina jėgos savybę, kuria tam tikras kūnas veikia atramą ar pakabą. Visuotinai sutartas svorio matavimo vienetas yra niutonas. Vienas niutonas lygus tokiai jėgai, kuri, veikdama 1 kg masės kūną, suteikia jam 1 m/s² pagreitį. Sudėtinga suvokti, bent bent jau aišku, apie kokią savybę kalbėsime.\n",
    "* Kiekvienas dydis yra lygintinas su kitais. 100N svoriui priskirtas skaičius 100 atitinka svorį (jėgą), kuri yra 10 kartų didesnė už kitą svorį - 10N. Jei ne priskirti skaičiai ,,100\" ir ,,10\", svorių palyginti nebūtų įmanoma.\n",
    "* Sudėti 100N ir 10N yra prasminga. Sudauginti - ne. Kodėl?\n",
    "* Skaičius - tai abstrakcija, su kuria norint manipuliuoti (atlikti veiksmus), dažnai nėra būtina suvokti, kokias savybes jie išreiškia. \n",
    "  * Pvz. 2 + 3 gali reikšti ir plotų sudėtį, ir ledų porcijų sudėtį, bet žinom, kad rezultatas bus 5 nepriklausomai nuo konteksto. \n",
    "  * Pvz. $\\pi$ - sudėtinga abstrakcija, išreiškianti skritulio ilgio ir skersmens santykį.\n",
    "\n",
    "### Kam tai žinoti?\n",
    "\n",
    "* Visą mokyklinę matematiką lydi žodiniu būdu apibūdintos situacijos, kuriose nuo pat pradinių klasių yra tobulinamas gebėjimas tam tikrus žodžiais išreikštus sąryšius ,,išversti\" į reiškiniais išreikštus sąryšius. Taip pat mokėjimas tais sąryšiais manipuliuoti ir juos modifikuoti tiek žodine forma, tiek reiškinių pagalba.\n",
    "* Reikia sugebėti įvardyti reiškiniais tokius dalykus, kaip pvz.:\n",
    "  * Kvadrato kraštinė lygi $x$. Koks *naujos figūros, gautos vieną kvadrato kraštinę padidinus 2, o kitą 5, plotas*?\n",
    "  * Plotas - nuoroda į skaičių dauginimą (dažniausiai dviejų stačiakampio kraštinių)\n",
    "  * Yra daug paprastesnių sąryšių. Tarkime, aš šiandien apsipirkau už $x$ eurų, o rytoj ketinu apsipirkti už **dvigubai daugiau** (viena paprasčiausių nuorodų į kintamojo dauginimą iš 2), tai rytoj ketinu apsipirkti už $2x$ eurų.  \n",
    "![](reiskiniai.png)\n",
    "* Kuo sudėtingesnės žodiniu būdu apibūdintos situacijos, tuo sunkiau pastebėti minėtas nuorodas. Reikia gerai nusimanyti ir apie dydžius, ir apie reiškinius."
   ]
  },
  {
   "cell_type": "markdown",
   "metadata": {},
   "source": [
    " # Pamokos medžiaga\n",
    "\n",
    "### Vystymosi raidos teorija\n",
    "\n",
    "Kalbėjome apie vystymosi raidos stadijos ir kaip ši psichologijos kryptis prisidėjo prie žinių apie matematikos mokymąsi. Daugiau informacijos bus tekstuke, kuris prieinamas nuorodoje [https://github.com/loijord/General/blob/master/READING/developmental_stages/vystymosi%20%C4%AFtaka%20matematikos%20mokymuisi.pdf](https://github.com/loijord/General/blob/master/READING/developmental_stages/vystymosi%20%C4%AFtaka%20matematikos%20mokymuisi.pdf)\n",
    "\n",
    "### Skirtumas tarp konkretaus ir abstraktaus mąstymo\n",
    "\n",
    "* Konkretus objektas - įsivaizduojame arba stebime konkretų objekto pavyzdį.\n",
    "  * Laiko sudėjimas konkrečioje situacijoje: sudedame, kiek laiko užtruko nusiprausti, kiek, pavalgyti, kiek apsirengti ir gauname, kiek laiko užtruko ruoštis į darbą.\n",
    "  * Pirties termometras su skale, reiškiančia laipsnius\n",
    "* Abstraktus objektas - naudojame apibūdinimą (arba žymėjimą), tinkantį keliems kontekstams\n",
    "  * 5 + 10 + 20 - bet kurių dydžių suma: laipsnių, greičių, plotų... \n",
    "  * Skaičių ašis - skalė, skirta vizualiai pavaizduoti bet kurio norimo dydžio reikšmėms. Galima laiką, temperatūrą, atstumą - ką nori.\n",
    "  * Koordinačių plokštuma, funkcijos - skirta vizualiai pavaizduoti bet kurių dviejų dydžių tarpusavio ryšį. Pvz. [šios nuorodos interaktyviuose grafikuose](https://nbviewer.org/github/loijord/EUC/blob/master/price_research.ipynb) nusprendžiau pavaizduoti skirtingų modelių elektrifikuotų priemonių nuvažiuojamo atstumo iki pilno išsikrovimo (km) ir tos priemonės €/km santykio ryšį.\n",
    "* Mintinis eksperimentas - bandymas mintyse įsivaizduoti konkretų reiškinį, procesą ar objektą. Dažnai dalykas ne tik įsivaizduojamas, bet ir mintyse transformuojamas, su juo atliekamos tam tikros manipuliacijos, atrandamos arba patvirtinamos tam tikros savybės. Jei pastebimas arba patvirtinamas dėsnis, galiojantis nebūtinai konkretiems objektams, tai tokį mintinio eksperimentavimo procesą galima vadinti abstrahavimu (apibendrinimu). \n",
    "* Naudojant matematines formules ar kitus žymėjimus patartina kiek galima dažniau **užsirašyti kintamųjų ir skaičių paaiškinimus**, pvz.:\n",
    "\n",
    "Skritulio ploto formulė: $S=\\pi r^2$, čia: $\\begin{cases} S\\text{ - skritulio plotas}\\\\r\\text{ - skritulio spindulys}\\\\ \\pi\\text{ - matematinė konstanta, išreiškianti apskritimo ilgio ir skersmens santykį} \\end{cases}$\n",
    "\n"
   ]
  },
  {
   "cell_type": "markdown",
   "metadata": {},
   "source": [
    "### Koordinačių plokštuma\n",
    "\n",
    "* Norint suprasti šią temą, pasiskaityti: [Simono medžiagą](../../Teorija/Simonas/class_6_koordinaciu_plokstuma.ipynb)\n",
    "* Užsirašyti paaiškinimus, ką reiškia žymėjimai $M(x; y)$ ir $(x; y)$\n",
    "* Pasispręsti: 1, 2, 3 ir 13 uždavinius iš [testo](../../Testai/Testas_6_6/testas_6_6.ipynb)"
   ]
  },
  {
   "cell_type": "code",
   "execution_count": 1,
   "metadata": {},
   "outputs": [],
   "source": [
    "# zodinis.pdf\n",
    "# ematematikas.lt\n",
    "# https://github.com/loijord/matematikos_pamokos/blob/master/programa/Vilius/TU/TU.ipynb\n",
    "# https://github.com/loijord/matematikos_pamokos/blob/master/programa/Martynas/naujimetai/review.pdf"
   ]
  }
 ],
 "metadata": {
  "kernelspec": {
   "display_name": "Python 3 (ipykernel)",
   "language": "python",
   "name": "python3"
  },
  "language_info": {
   "codemirror_mode": {
    "name": "ipython",
    "version": 3
   },
   "file_extension": ".py",
   "mimetype": "text/x-python",
   "name": "python",
   "nbconvert_exporter": "python",
   "pygments_lexer": "ipython3",
   "version": "3.9.13"
  }
 },
 "nbformat": 4,
 "nbformat_minor": 1
}
