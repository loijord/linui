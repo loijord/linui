{
 "cells": [
  {
   "cell_type": "markdown",
   "id": "4d9f16e1",
   "metadata": {},
   "source": [
    "## Siūlomos mokymosi metodikos"
   ]
  },
  {
   "cell_type": "markdown",
   "id": "63f67599",
   "metadata": {},
   "source": [
    "### Mokymasis pagal programą\n",
    "Reikia kuo efektyvesnio būdo įsivertinti kiekvienos mokyklinės temos žinias. Siūlau tuo tikslu įsigyti [https://www.ematematikas.lt](https://www.ematematikas.lt) narystę. \n",
    "\n",
    "* Prieš užsiėmimą išsirenkame, kuriuos testus darysime.\n",
    "* Per užsiėmimą aptariame medžiagą, kurios reikės norint įveikti testo uždavinius.\n",
    "* Po užsiėmimo susižymime, kurių testo uždavinių išspręsti nepavyko ir tuos uždavinius aptarti kio užsiėmimo metu."
   ]
  },
  {
   "cell_type": "markdown",
   "id": "79e5579a",
   "metadata": {},
   "source": [
    "### Mokymasis pagal loginę matematikos struktūrą\n",
    "\n",
    "Mokomasi pagal programą, tik temos yra perdėliojamos taip, kad būtų aiškiai matyti:\n",
    "* kokių ankstesnių temų žinių reikia būsimoms temoms\n",
    "* kokie yra loginiai ryšiai tarp vienos ir kitos temos"
   ]
  },
  {
   "cell_type": "markdown",
   "id": "0e652d35",
   "metadata": {},
   "source": [
    "### Art of logical thinking\n",
    "Strategija, aptariama knygoje [George Polya - How to solve it](https://www.amazon.com/How-Solve-Mathematical-Princeton-Science/dp/069111966X). Kiekvieno uždavinio sprendimas susideda iš 4 sprendimo etapų:\n",
    "\n",
    "* Uždavinio supratimas\n",
    "* Plano sudarymas\n",
    "* Plano vykdymas\n",
    "* Sprendimo apžvalga\n",
    "\n",
    "Klausimai, kuriuos patariama išsikelti sprendimo metu:\n",
    "\n",
    "|Uždavinio sprendimo pakopos|Klausimai, kuriuos galima kelti sprendimo metu|\n",
    "|:---|:---|\n",
    "|UŽDAVINIO SUPRATIMAS|Kokį nežinomąjį reikia rasti? Kokie duomenys duoti? Kokia sąlyga? Ar įmanoma ją išpildyti? Ar sąlyga pakankama rasti nežinomajam, ar nepakankama? O gal perteklinė ar prieštaringa? Nusibrėžkite iliustraciją. Pasirinkite tinkamus žymėjimus. Išskirkite atskiras sąlygos dalis. Ar įmanoma jas užrašyti?|\n",
    "|PLANO SUDARYMAS|Ar uždavinys prieš tai matytas? Arba matytas truputį kitoks uždavinys? Ar žinai giminingą uždavinį arba naudingą teoremą, kuri būtų naudinga? Pasižiūrėk į kintamąjį. **Pabandyk sugalvoti pažįstamą uždavinį, turintį tą patį ar panašų nežinomąjį. Tarkim radai panašų prieš tai išspręstą uždavinį. Ar gali juo pasinaudoti? Ar gali panaudoti jo rezultatą, sprendimo metodą?** Ar reikia įvesti papildomą elementą į turimą sprendimą, kad pavyktų juo pasinaudoti? Ar gali kitaip suformuluoti uždavinį? Arba dar kitaip? Grįžk prie apibrėžimų. Jei negali išspręsti uždavinio, pradėk nuo susijusio uždavinio. Ar įsivaizduoji artimesnį susijusį uždavinį? Konkretesnį uždavinį? Analogišką uždavinį? Pabandyk spręsti tik vieną sąlygos dalį nenagrinėdamas kitos. Kaip tada apibrėžtas nežinomasis ir kaip jis gali keistis? Ar gali išvesti ką nors naudingo iš šių duomenų? Ar gali sugalvoti kitus duomenis apibrėžti šiam nežinomajam? Ar gali pakeisti nežinomąjį, arba duomenis, arba abu, kad nežinomasis būtų labiau susijęs su duomenimis? Ar panaudojai visus duomenis? Ar pasinaudojai visomis esminėmis mintimis, įtrauktomis į uždavinį?|\n",
    "|PLANO VYKDYMAS|Vykdydamas sprendimo planą patikrink kiekvieną žingsnį? Ar esi tikras, kad kiekvienas žingsnis teisingas, ar gali paaiškinti, kodėl teisingas?|\n",
    "|SPRENDIMO APŽVALGA|Ar gali patikrinti rezultatą? Ar gali patikrinti įrodymą? Ar gali gauti rezultatą kitu būdu? Ar kitas būdas matomas akimirksniu? Ar gali pasiremti rezultatu arba sprendimo metodu kituose uždaviniuose?|"
   ]
  },
  {
   "cell_type": "markdown",
   "id": "92f1fd0b",
   "metadata": {},
   "source": [
    "### Scrum\n",
    "\n",
    "Tai programuotojų įmonėse plačiai naudojamas darbo metodas, kur reikia ypač sparčios naujų dalykų mokymosi pažangos. Šis metodas taikomas ir Turing College. Čia pagrindinis darbas - kuo greičiau įgyti tam tikros srities programavimo kompetencijas. Siekiant progreso kas savaitę organizuojami 1 - 2 susitikimai su mentoriais (taip vadinami Stand - Ups), per kuriuos studijuojantys tam tikrą sritį pristato savo pažangą, padarytą nuo praeito susitikimo. \n",
    "\n",
    "Paprastai dirbama komandoje, kur kiekvienas dalyvis savo darbo rezultatų pristatymui turi laiko 1 - 3 minutes. Čia pasidalinsiu klausimais, į kuriuos rekomenduojama keliant mokymosi metu lengviau įsivertinti pažangą.\n",
    "\n",
    "#### Pirma dalis - naujų idėjų pristatymas\n",
    "* Ką išmokai nuo praeito susitikimo?\n",
    "* Pristatyk temų, kurios tau buvo aktualios, pagrindines idėjas.\n",
    "* Kodėl šios idėjos tau atrodo svarbios (įdomios arba keliančios sunkumų)\n",
    "* Kaip šias idėjas supranti?\n",
    "\n",
    "#### Antra dalis - klausimų/sunkumų pristatymas\n",
    "* Su kokiais sunkumais susidūrei mokydamasis nuo praeito susitikimo?\n",
    "* Ar pavyko juos išspręsti, ar vis dar reikia pagalbos?\n",
    "* Ar kilę klausimai yra svarbūs, ar kilo tik iš smalsumo? \n",
    "* Kodėl jie tau atrodo svarbus (įdomūs arba keliantys sunkumų)\n",
    "\n",
    "#### Tolimesni patarimai\n",
    "* **Sunkumai**. Reikia, kiek pavyksta, stengtis apibūdinti sunkiausias dalis (klausimus) savo mokymosi procese. Klaidos kurios kyla stengiantis paaiškinti, kas sunkiausia, nėra blogai. Blogiau yra, kai jų bijoma arba vengiama paaiškinti, kas sunkiausia.\n",
    "* **Naujos idėjos**.\n",
    "Reikia, kiek pavyksta, stengtis savais žodžiais apibūdinti naujai išmoktas idėjas ir kur jos gali būti panaudotos\n",
    "* Patariama mokymosi metu užsirašyti klausimus, baigus mokytis darsyk juos peržiūrėti ir pasižymėti tuos, kurie liko neatsakyti\n",
    "* Patariama per ilgai neužsisėdėti prie vietų, kurios nesigauna\n",
    "\n",
    "Po dalyvių visų dalyvių prisistatymo eina taip pat ir mentoriaus prisistatymas. Jis apibūdina:\n",
    "\n",
    "* Užduotį, su kuria dirbo pastarąją savaitę\n",
    "* Savo mąstymo procesą tai užduočiai spręsti arba bendrus pastebėjimus iš savo profesinės pusės\n",
    "* Klausimus, kuriais nori pasidalinti su besimokančiaisiais\n",
    "* Kuo šie klausimai yra aktualūs"
   ]
  },
  {
   "cell_type": "markdown",
   "id": "eb1a4c50",
   "metadata": {},
   "source": [
    "## Mokymosi metodikų palyginimas\n",
    "\n",
    "Vien tipinis **mokymasis pagal programą** dažnai nėra efektyvus, nes pagrindinis dėmesys yra skiriamas atkartoti procedūroms, tačiau nelavina supratimo apie matematinių objektų sąvokas ir savybes bei įgūdžių, reikiamų apibūdinti pagrindinėms uždavinių sprendimo idėjoms. Toks mokymasis dažnai būna skubotas ir paviršutiniškas. Nespėjus išmokti vienos temos pilnai peršokama prie kitos, dėl ko kaupiasi spragos ir išauga mokymosi laiko sąnaudos, būtinos pilnai suprasti būsimoms temoms. Įgyjamos žinios orientuojamos taip, kad didesnė svarba būtų teikiama tam, ką išmoksime ateityje. \n",
    "\n",
    "**Mokymasis pagal loginę matematikos struktūrą** didesnę svarbą teikia tam, ką išmokome anksčiau. Didžiausias skiriamas dėmesys yra kertinėms (daugiausia loginių ryšių su kitomis temomis) turinčioms temoms. Spragų ir laiko nuostolių problema sumažėja, nes lengviau pamatuoti, koks bus tikėtiniausias kiekvienos temos mokymosi poreikis.\n",
    "\n",
    "Tiek mokantis pagal programą, tiek pagal struktūrą kruopščiai dirbama su konkrečia medžiaga, kurią reikia išmokti, tačiau neatsižvelgiama į moksleivio individualus mokymosi tempą ir kitas mokymosi savybes, todėl laiko paskirstymas kiekvienai temai išmokti gali būti kitoks, nei tikimasi. Nuolat priimti tinkamus sprendimus dėl efektyviausio mokymosi plano, būtinas nuolatinis progreso stebėjimas. Jį geriausiai galima įsivertinti atliekant pagal programą parengtus testus.\n",
    "\n",
    "**Scrum** ir **Art of logical thinking** strategijos lieka toli už mokyklos ribų. Jos orientuotos ne į konkretų matematikos turinį, o žinias, reikiamas norint pasiekti kuo efektyvesninį mokymosi procesą. Abi panašios tuo, kad daugiausia dėmesio skiriama metainformacijai - žinioms apie mąstymo procesus, vykstančius mokymosi metu. Skiriasi tuo, kad **Art of logical thinking** orientuota būtent į matematinį mąstymą, o **Scrum** - galimybes mokytis sparčiai bet kurią sritį ir daug geriau savarankiškai stebėti savo progresą ir kylančius sunkumus. Nors **Scrum** metodika suteikia naujas galimybes  kritiškai įsivertinti (bet kurios disciplinos) mokymosi progresą, šios galimybės yra ribotos. Pilnas galimybes suteikia testų, parengtų pagal mokyklinę programą, atlikimas. \n",
    "\n",
    "Dar geresniam supratimui apie mokymąsi iš neuromokslinės perspektyvos rekomeduoju perklausyti kursą [Learn how to learn](https://www.coursera.org/learn/learning-how-to-learn). Norint pasiekti geriausių rezultatų, bandysime kombinuoti įvairias mokymosi metodikas."
   ]
  },
  {
   "cell_type": "markdown",
   "id": "12dc2f8e",
   "metadata": {},
   "source": [
    "## Pamokos medžiaga"
   ]
  },
  {
   "cell_type": "markdown",
   "id": "c9e4ae0b",
   "metadata": {},
   "source": [
    "Prisimename, kad:\n",
    "* Natūralieji skaičiai (**N**) - tai skaičiai, kuriais skaičiuojame daiktus: 1, 2, 3, 4, ...\n",
    "* Sveikieji skaičiai (**Z**) - tai skaičiai, neturintys trupmeninės dalies: ..., -2, -1, 0, 1, 2, ...\n",
    "* Racionalieji arba trupmeniniai skaičiai (**Q**) - tai skaičiai, kuriuos galima išreikšti kaip dviejų sveikųjų skaičių santykį, pvz.  \n",
    "    * $\\displaystyle\\frac{3}{5}$\n",
    "    * $\\displaystyle\\frac{-10}{2}$ (kas lygu -5)\n",
    "    * $\\displaystyle\\frac{-10}{3}$ (kas lygu $\\displaystyle\\large{-3}\\frac{1}{3}$)\n",
    "* Kitos aibės skaičių, tokie kaip $\\sqrt{3}$ arba $\\pi$, nepriklausantys racionaliesiems, neturi atskirų pavadinimų. Tokie skaičiai vadinami iracionaliaisiais (**I**)"
   ]
  },
  {
   "cell_type": "markdown",
   "id": "f5260595",
   "metadata": {},
   "source": [
    "Norėdami pakartoti veiksmus su dauguma mums pažįstamų skaičių, paimkime 4 veiksmus (`+`, `-`, `x` ir `:`) ir išsiaiškinkime, ar mokame taisykles, kaip atlikti šiuos veiksmus su skaičiais iš visų aibių.\n",
    "\n",
    "#### Klausimas 1\n",
    "Kokius skaičius gauname, kai atliekame veiksmus `N + N`, `N - N`, `N x N`, `N : N` (užrašymas sutartinis, `N` žymi, kad imame bet kurį skaičių iš N aibės)\n",
    "\n",
    "#### Atsakymas 1\n",
    "* `N + N = N` (negausime nei neigiamų, nei trupmeninių skaičių)\n",
    "* `N - N = Z` (pvz. $5 - 3 = 2$, bet $3 - 5 = -2$. Abu priklauso sveikųjų skaičių aibei)\n",
    "* `N x N = N` (negausime nei neigiamų, nei trupmeninių skaičių)\n",
    "* `N : N = Q` (pvz. $5 : 3 = \\frac{5}{3}$ ir $6 : 3 = \\frac{6}{3} = 2$. Abu priklauso trupmeninių skaičių aibei)\n",
    "\n",
    "#### Klausimas 2\n",
    "Iš viso yra 36 variantai, kokius reiškinius galime sudaryti:\n",
    "\n",
    "`N + N`, `N + Z`, `N + Q`, `N - N`, `N - Z`, `N - Q`, `N x N`, `N x Z`, `N x Q`, `N : N`, `N : Z`, `N : Q`, `Z + N`, `Z + Z`, `Z + Q`, `Z - N`, `Z - Z`, `Z - Q`, `Z x N`, `Z x Z`, `Z x Q`, `Z : N`, `Z : Z`, `Z : Q`, `Q + N`, `Q + Z`, `Q + Q`, `Q - N`, `Q - Z`, `Q - Q`, `Q x N`, `Q x Z`, `Q x Q`, `Q : N`, `Q : Z`, `Q : Q`\n",
    "\n",
    "4 iš jų jau išnagrinėjome. Nagrinėjame kitus 32 atvejus:\n",
    "* Veiksmai su ne trupmeniniais skaičiais:\n",
    "    * Kokius skaičius gauname, kai sudedame arba atimame: `N + Z`, `N - Z`, `Z + Z`, `Z - Z`?\n",
    "    * Kokius skaičius gauname daugybos atveju: `N x Z`, `Z x N`, `Z x Z`?\n",
    "    * Kokius skaičius gauname dalybos atveju: `N : Z`, `Z : N`, `Z : Z`?\n",
    "* Veiksmai su skaičiais iš kurių vienas yra ne sveikasis skaičius, o trupmena:\n",
    "    * Kokius skaičius gauname, kai sudedame arba atimame: \n",
    "      * `N + Q`, `N - Q`, `Z + Q`, `Z - Q`, `Q + Q`, `Q - Q` arba\n",
    "      * `Q + N`, `Q - N`, `Q + Z`, `Q - Z`\n",
    "    * Kokius skaičius gauname daugybos atveju: `N x Q`, `Q x N`, `Z x Q`, `Q x Z`?\n",
    "    * Kokius skaičius gauname dalybos atveju: `N : Q`, `Q : N`, `Z : Q`, `Q : Z`?\n",
    "* Veiksmais su trupmenomis:\n",
    "    * Kokius skaičius gauname, kai sudedame arba atimame: \n",
    "      * `Q + Q`, `Q - Q`\n",
    "    * Kokius skaičius gauname daugybos atveju: `Q x Q`?\n",
    "    * Kokius skaičius gauname dalybos atveju: `Q : Q`?\n",
    "    \n",
    "Gal būt atsakant į klausimus padės panašios mintys iš **Art of problem solving** skyrelio:\n",
    "\n",
    "* Pabandyk sugalvoti pažįstamą uždavinį, turintį tą patį ar panašius skaičius. Tarkim radai panašų prieš tai išspręstą uždavinį. Ar gali juo pasinaudoti? Ar gali panaudoti jo rezultatą, sprendimo metodą? Kaip keičiasi rezultatas ar sprendimo metodas pakeitus tam tikrą skaičių (tarkim į didesnį ar priešingo ženklo).*\n",
    "\n",
    "#### Klausimas 3\n",
    "Pateik kiekvienam iš 36 atvejų po vieną lengvą skaičiavimo pavyzdį su konkrečiais skaičiais. Pvz.: $3 : \\frac{3}{5} = 3 \\times \\frac{5}{3} = 5$. Čia galima pastebėti, kad atveju $3 : \\frac{4}{5} = 3 \\times \\frac{5}{4} = \\frac{15}{4}$ skaičiavimas būtų jau sudėtingesnis, bet iš pradžių, jei norisi, galima apsiriboti lengviausiais atvejais. Be to, išraišką $\\frac{15}{4}$ leistina palikti nesuprastintą\n",
    "\n",
    "Sudėties ir daugybos atvejais skaičius sukeitus vietomis rezultatas nesikeičia, todėl tą patį skaičiavimo procesą galima naudoti dviem atvejais, pvz. $-3 \\times 7 = 7 \\times (-3) = -21$\n",
    "\n",
    "Išmetus pasikartojimus, gal būt padės ankstesniame pavyzdyje pasiūlytas grupavimas:\n",
    "* Atvejai `N + N = N`, `N - N = N`, `N x N = N`, `N : N = N`\n",
    "* Atvejai `N + Z`, `N - Z`, `Z + Z`, `Z - Z`\n",
    "* Atvejai `N x Z`, `Z x N`, `Z x Z`\n",
    "* Atvejai `N : Z`, `Z : N`, `Z : Z`\n",
    "* Atvejai `N + Q`, `N - Q`, `Z + Q`, `Z - Q`, `Q + Q`, `Q - Q` ir `Q + N`, `Q - N`, `Q + Z`, `Q - Z`\n",
    "* Atvejai `N x Q`, `Q x N`, `Z x Q`, `Q x Z`\n",
    "* Atvejai `N : Q`, `Q : N`, `Z : Q`, `Q : Z`\n",
    "* Atvejai `Q + Q`, `Q - Q`\n",
    "* Atvejis `Q x Q`\n",
    "* Atvejis `Q : Q`\n",
    "\n",
    "#### Klausimas 4\n",
    "Kai išsiaiškiname, kokių rezultatų tikėtis atliekant veiksmus, reikia užtikrintumo, kad tuos veiksmus sugebame užtikrintai atlikti nepriklausomai nuo pradinių skaičių. Kaip keičiasi skaičiavimo procesas kiekvienu atveju parinkus pakankamai didelius skaičius? Kokias naujas procedūras reikia taikyti, jei skaičiavimo mašinėle naudotis neleidžiama?\n",
    "\n",
    "#### Klausimas 5\n",
    "Kiekvienam iš 36 atvejų pamėgink išnagrinėti visus galimus skaičių pakeitimus, kuriems įvykus keičiasi skaičiavimo procesas. Pvz.: atveju `N - Q`:\n",
    "* $2 - \\frac{3}{5} = \\frac{10}{5} - \\frac{3}{5} = \\frac{7}{5}$ pakeitus pirmą narį į neigiamą turėsime $-2 - \\frac{3}{5} = \\frac{-10}{5} - \\frac{3}{5} = -\\frac{13}{5}$ iš esmės skaičiavimo procesas nepasikeitė. \n",
    "* Tačiau atvejais $10 - 3$ ir $-10 - 3$ matome reikšmingą pasikeitimą skaičiavimo procese. Kur ir kokį? Ką pakeitus skaičiuose pokytis įvyksta ir skaičiavimo procese?\n",
    "\n",
    "#### Klausimas 6\n",
    "Kartu įsivardysime visas taisykles kiekvienam atvejui, nuo kurių priklauso skaičiavimo procesas. Pavyzdžiui:\n",
    "* Veiksmas $N - N$. Jei pirmas skaičius didesnis už antrą arba jam lygus, atimame kaip įprasta. Kitais atvejais taikome taisyklę $a - b = -(b - a)$, pvz.: $3 - 10 = - (10 - 3) = -7$"
   ]
  }
 ],
 "metadata": {
  "kernelspec": {
   "display_name": "Python 3 (ipykernel)",
   "language": "python",
   "name": "python3"
  },
  "language_info": {
   "codemirror_mode": {
    "name": "ipython",
    "version": 3
   },
   "file_extension": ".py",
   "mimetype": "text/x-python",
   "name": "python",
   "nbconvert_exporter": "python",
   "pygments_lexer": "ipython3",
   "version": "3.9.13"
  },
  "toc": {
   "base_numbering": 1,
   "nav_menu": {},
   "number_sections": true,
   "sideBar": true,
   "skip_h1_title": false,
   "title_cell": "Table of Contents",
   "title_sidebar": "Contents",
   "toc_cell": false,
   "toc_position": {},
   "toc_section_display": true,
   "toc_window_display": false
  },
  "varInspector": {
   "cols": {
    "lenName": 16,
    "lenType": 16,
    "lenVar": 40
   },
   "kernels_config": {
    "python": {
     "delete_cmd_postfix": "",
     "delete_cmd_prefix": "del ",
     "library": "var_list.py",
     "varRefreshCmd": "print(var_dic_list())"
    },
    "r": {
     "delete_cmd_postfix": ") ",
     "delete_cmd_prefix": "rm(",
     "library": "var_list.r",
     "varRefreshCmd": "cat(var_dic_list()) "
    }
   },
   "types_to_exclude": [
    "module",
    "function",
    "builtin_function_or_method",
    "instance",
    "_Feature"
   ],
   "window_display": false
  }
 },
 "nbformat": 4,
 "nbformat_minor": 5
}
