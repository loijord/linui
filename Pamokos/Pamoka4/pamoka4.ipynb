{
 "cells": [
  {
   "cell_type": "markdown",
   "metadata": {},
   "source": [
    "Per pamoką nagrinėjom pagr. plokštumos figūrų (stačiakampio, trikampio, lygiagretainio, trapecijos ir rombo) plotų formulių paaiškinimus. "
   ]
  },
  {
   "cell_type": "markdown",
   "metadata": {},
   "source": [
    "|Figūra|Plotas|Prasmės|Animacija|\n",
    "|:---|:---|:---|:---|\n",
    "|Stačiakampis|$$S=ab$$|$$\\begin{cases}a\\text{ - viena kraštinė}\\\\b\\text{ - kita kraštinė}\\end{cases}$$|[1] [Ploto konceptas](https://www.geogebra.org/m/jeg44n7c)|\n",
    "|Trikampis (statusis)|$$S=\\frac{ab}{2}$$|$$\\begin{cases}a\\text{ - viena kraštinė}\\\\b\\text{ - kita kraštinė}\\end{cases}$$|X|\n",
    "|Trikampis|$$S=\\frac{ah}{2}$$|$$\\begin{cases}a\\text{ - kraštinė (pagrindas)}\\\\h\\text{ - aukštinė, nuleista į pagrindą}\\end{cases}$$|X|\n",
    "|Lygiagretainis|$$S=ah$$|$$\\begin{cases}a\\text{ - kraštinė (pagrindas)}\\\\ h\\text{ - aukštinė, nuleista į pagrindą}\\end{cases}$$|X|\n",
    "|Rombas|$$S=\\frac{d_1d_2}{2}$$|$$\\begin{cases}d_1\\text{ - viena įstrižainė}\\\\d_2\\text{ - kita įstrižainė}\\end{cases}$$|X|\n",
    "|Trapecija|$$S=\\frac{a+b}{2}\\times h$$|$$\\begin{cases}a\\text{ - vienas pagrindas}\\\\b\\text{ - kitas pagrindas}\\\\ h\\text{ - aukštinė, jungianti pagrindus}\\end{cases}$$|X|\n",
    "|Skritulys*|$$S=\\pi r^2$$|$$\\begin{cases}r\\text{ - spindulys}\\\\ \\pi\\text{ - perimetro ir skersmens santykis}\\end{cases}$$|X|\n",
    "\n",
    "*Nagrinėjama tik 6 klasėje. Skritulio ploto paaiškinimas - mano (Simono Mamaičio) matematiką populiarinančiame straipsnyje. [https://www.lrt.lt/naujienos/mokslas-ir-it/11/1383769/kodel-mokykline-matematika-tokia-sudetinga-palyginus-su-kitais-mokslais](https://www.lrt.lt/naujienos/mokslas-ir-it/11/1383769/kodel-mokykline-matematika-tokia-sudetinga-palyginus-su-kitais-mokslais)"
   ]
  },
  {
   "cell_type": "markdown",
   "metadata": {},
   "source": [
    "Kintamųjų žymėjimai\n",
    "* $a,b$ - kraštinės\n",
    "* $h$ - aukštinė (*hypotenuse*)\n",
    "* $d_1,d_2$ - įstrižainės (*diagonals*)\n",
    "* $r$ - spindulys (radius)"
   ]
  },
  {
   "cell_type": "markdown",
   "metadata": {},
   "source": [
    "### Ką mokėmės\n",
    "\n",
    "Po pamokos Linas darė visas Pav. 2 užduotis. Rezultatai:\n",
    "\n",
    "1\\. OK  \n",
    "2\\. OK  \n",
    "3\\. Linas ieškojo kalkuliatoriaus, kuris apskaičiuotų trikampio plotą įvedus 3 koordinates.  \n",
    "4\\. Pritaikyta netinkama lygiagretainio ploto skaičiavimo formulė (kažkodėl sandauga $ah$ dalyta iš 2)  \n",
    "5\\. Linui nepasisekė rasti aukštinės, nes reikėjo papildomų žinių apie trikampio ($45^o$,$45^o$,$90^o$) proporcijas.\n",
    "\n",
    "### Išvados\n",
    "* Formulių taikymas ir skaičiavimai sekasi gerai\n",
    "* Praeita pamoka buvo skirta paaiškinti formulėms. Reiktų tikėtis, kad tai padės jų nesumaišyti, bet nepadėjo (ketvirta užd.)\n",
    "* Trečias užd. neišsisprendė, nes nepakanka patirties su taškų žymėjimu koordinačių plokštumoje.\n",
    "* Nieko tokio, kad yra spragų iš kitų temų. Jas išsitaisysime per kitas pamokas (penkta užd.)\n",
    "\n"
   ]
  },
  {
   "cell_type": "markdown",
   "metadata": {
    "collapsed": true,
    "pycharm": {
     "is_executing": true
    }
   },
   "source": [
    "### Pav 1.\n",
    "<img src=\"sources/s1.jpg\" width=\"700\"/>  \n",
    "\n",
    "### Pav 2.\n",
    "<img src=\"sources/s2.jpg\" width=\"700\"/>  \n",
    "\n",
    "### Pav 3.\n",
    "<img src=\"sources/s3.jpg\" width=\"700\"/>  \n",
    "\n",
    "### Pav 4.\n",
    "<img src=\"sources/s4.jpg\" width=\"700\"/>\n",
    "\n",
    "### Pav 5.\n",
    "<img src=\"sources/s5.jpg\" width=\"700\"/>  \n",
    "\n",
    "### Pav 6.\n",
    "<img src=\"sources/s6.jpg\" width=\"700\"/>\n",
    "\n",
    "### Pav 7.\n",
    "<img src=\"sources/s7.jpg\" width=\"700\"/>\n",
    "\n",
    "### Pav 8.\n",
    "<img src=\"sources/s8.jpg\" width=\"700\"/>\n",
    "\n",
    "### Pav 9.\n",
    "<img src=\"sources/s9.jpg\" width=\"700\"/>\n",
    "\n",
    "### Pav 10.\n",
    "<img src=\"sources/s10.jpg\" width=\"700\"/>\n"
   ]
  },
  {
   "cell_type": "markdown",
   "metadata": {},
   "source": [
    "[Plokštumos figūros](https://www.geogebra.org/t/plane-figures)"
   ]
  }
 ],
 "metadata": {
  "kernelspec": {
   "display_name": "Python 3 (ipykernel)",
   "language": "python",
   "name": "python3"
  },
  "language_info": {
   "codemirror_mode": {
    "name": "ipython",
    "version": 3
   },
   "file_extension": ".py",
   "mimetype": "text/x-python",
   "name": "python",
   "nbconvert_exporter": "python",
   "pygments_lexer": "ipython3",
   "version": "3.9.13"
  }
 },
 "nbformat": 4,
 "nbformat_minor": 1
}
