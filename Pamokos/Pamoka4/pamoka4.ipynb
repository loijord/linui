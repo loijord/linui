{
 "cells": [
  {
   "cell_type": "markdown",
   "metadata": {
    "collapsed": true,
    "pycharm": {
     "is_executing": true
    }
   },
   "source": [
    "### Pav 1.\n",
    "<img src=\"sources/s1.jpg\" width=\"700\"/>  \n",
    "\n",
    "### Pav 2.\n",
    "<img src=\"sources/s2.jpg\" width=\"700\"/>  \n",
    "\n",
    "### Pav 3.\n",
    "<img src=\"sources/s3.jpg\" width=\"700\"/>  \n",
    "\n",
    "### Pav 4.\n",
    "<img src=\"sources/s4.jpg\" width=\"700\"/>\n",
    "\n",
    "### Pav 5.\n",
    "<img src=\"sources/s5.jpg\" width=\"700\"/>  \n",
    "\n",
    "### Pav 6.\n",
    "<img src=\"sources/s6.jpg\" width=\"700\"/>\n",
    "\n",
    "### Pav 7.\n",
    "<img src=\"sources/s7.jpg\" width=\"700\"/>\n",
    "\n",
    "### Pav 8.\n",
    "<img src=\"sources/s8.jpg\" width=\"700\"/>\n",
    "\n",
    "### Pav 9.\n",
    "<img src=\"sources/s9.jpg\" width=\"700\"/>\n",
    "\n",
    "### Pav 10.\n",
    "<img src=\"sources/s10.jpg\" width=\"700\"/>\n"
   ]
  },
  {
   "cell_type": "markdown",
   "metadata": {},
   "source": [
    "[Plokštumos figūros](https://www.geogebra.org/t/plane-figures)"
   ]
  },
  {
   "cell_type": "code",
   "execution_count": null,
   "metadata": {},
   "outputs": [],
   "source": []
  }
 ],
 "metadata": {
  "kernelspec": {
   "display_name": "Python 3 (ipykernel)",
   "language": "python",
   "name": "python3"
  },
  "language_info": {
   "codemirror_mode": {
    "name": "ipython",
    "version": 3
   },
   "file_extension": ".py",
   "mimetype": "text/x-python",
   "name": "python",
   "nbconvert_exporter": "python",
   "pygments_lexer": "ipython3",
   "version": "3.9.13"
  }
 },
 "nbformat": 4,
 "nbformat_minor": 1
}
