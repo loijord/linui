{
 "cells": [
  {
   "cell_type": "markdown",
   "metadata": {},
   "source": [
    "## Koordinatės, Funkcijos ir reiškiniai"
   ]
  },
  {
   "cell_type": "markdown",
   "metadata": {
    "collapsed": true
   },
   "source": [
    "*1637 m. traktatas apie [metodo diskursą](https://en.wikipedia.org/wiki/Discourse_on_the_Method). Jame buvo daug idėjų apie tai, kaip būtų galima patikrinti iš kartos į kartą perduodamas bendras tiesas pačiam. Anuomet tos tiesos atrodė neginčytinos. Buvo pasiūlyti keli samprotavimo / faktų patikrinimo metodai. Koordinačių sistemos pritaikymas - tai tik ištakos iš vieno iš tų metodų. Vienoje traktato dalyje Dekartas remdamasis koordinatėmis išvedė, kokiu atstumu kartais matome nutolusią vaivorykštę ir kodėl kartais jas matome dvi. Lig tol nėra išlikusių europietiškų šaltinių, kuriuose tai kas nors būtų paaiškinęs*"
   ]
  },
  {
   "cell_type": "markdown",
   "metadata": {},
   "source": [
    "*Panašiu metu matematikoje vis dažniau būdavo nagrinėjami klausimai apie judėjimą. \n",
    "Atsirado poreikis jį aprašyti matematiškai. Pats patogiausias būdas - naudoti koordinates. Jas panaudoti Dekartui idėja kilo žiūrint į savo kambario lubomis lipančią musę.*"
   ]
  },
  {
   "cell_type": "markdown",
   "metadata": {},
   "source": [
    "*Vėliau 1694 metais žymus matematikas Gotfridas Leibnicas pasiūlė funkcijos sąvoką.*"
   ]
  },
  {
   "cell_type": "markdown",
   "metadata": {},
   "source": [
    "### Reiškinys\n",
    "* Tai matematinė frazė. Pvz.: *trys x plius du* arba $3x+2$\n",
    "\n",
    "### Funkcija\n",
    "* Iš esmės tai - atitiktis tarp dviejų reikšmių: kintamojo, dar vadinamu tos funkcijos *argumentu* ir funkcijos *reikšmės*, įgyjamos su tuo argumentu. Pvz.: $f(x) = 3x+2$; kai rašome $f(8) = 26$, tai turime mintyje, kad funkcija įgyja reikšmę 26, kai argumentas $x = 8$.\n",
    "* Funkcija nuo reiškinio mažai kuo skiriasi.\n",
    "    \n",
    "### Tipiniai klausimai 5 - 12 kl. matematikoje:\n",
    "#### Reiškiniai\n",
    "* **Pateiktas reiškinys. Duota kintamojo reikšmė, rasti reiškinio reikšmę**. Kokią reikšmę įgyja reiškinys $3x+2$, kai $x = 8$?\n",
    "* **Pateiktas reiškinys. Duota reiškinio reikšmė, rasti nežinomojo reikšmę**. Su kokia $x$ reikšme reiškinys $3x+2$ įgys reikšmę, lygią $8$?\n",
    "#### Funkcijų grafikai\n",
    "* **Pateiktas funkcijos grafikas. Kokią reikšmę įgyja funkcija su duota kintamojo reikšme?**\n",
    "* **Pateiktas funkcijos grafikas. Su kokia kintamojo reikšme funkcija įgyja duotą reikšmę?**\n",
    "\n",
    "Iš esmės abi dalys nesiskiria, tik antroje dalyje remiamasi brėžiniu, o pirmoje - reiškinio užrašu. Taip pat pasimokysime duotam reiškiniui nubraižyti grafiką."
   ]
  },
  {
   "cell_type": "markdown",
   "metadata": {},
   "source": [
    "## Pamokos medžiaga\n",
    "\n",
    "### Dydžiai\n",
    "\n",
    "Dydis - tai savybė, kuriai priskiriama **reikšmė** pasirenkant **matavimo vienetą**. Būna visokių:  \n",
    "  * **Matematiniai** (dažniausiai matavimo vieneto nereikia): \n",
    "    * $\\sqrt{2}$ - kvadrato kraštinės ir įstrižainės santykis\n",
    "    * $\\pi$ - apskritimo ilgio ir skersmens santykis\n",
    "    * 8 - pažymių vidurkis  \n",
    "    \n",
    "  * **Fizikiniai**\n",
    "    * 20N - jėga\n",
    "    * 9cm² - plotas\n",
    "    * 11A - elektros stipris\n",
    "    * 67V - elektros įtampa\n",
    "    * 9 mazgai - laivo greitis\n",
    "    \n",
    "  * **Kiti**, turintys aiškų susitarimą, kaip juos pamatuoti:\n",
    "     * 107 balai - intelektas\n",
    "     * 3€ - kaina\n",
    "     * 672XP - taškai kompiuteriniame žaidime\n",
    "\n",
    "### Matavimo vienetų vertimo prasmė\n",
    "\n",
    "Vienus matavimo vienetus verčiant kitais, gaunamas užrašas, galintis turėti įvairias giminiškas prasmes. Dažniausiai tinka tinka žodis ,,**sudaro**\" arba ,,**tiek, kiek**\":\n",
    "* 3cm = 30mm. Tris centimetrus **sudaro** 30 milimetrų\n",
    "* 3cm = 30mm. Trys centimetrai **yra tiek, kiek** 30 milimetrų\n",
    "\n",
    "Bet galima ir surasti vaizdingesnių apibūdinimų, priklausomai nuo to, apie kokius dydžius kalbama:\n",
    "\n",
    "* 3cm = 30mm. Trys centimetrai **yra tokio paties ilgio, kaip ir** 30 milimetrų\n",
    "* 900 žm./km² = 9.24žm/ha. 900 žmonių į kvadratinį kilometrą **yra tokio paties tankumo, kaip ir** 9 žmonės į hektarą.\n",
    "* 36km/h = 10m/s. **Jei** mano greitis būtų 36km/h, **tai** per sekundę įveikčiau 10m.\n",
    "* 1 (laim.)/ 5 (žaid.) = 20 (laim.) / 100 (pral.). **Jei** iš 5 loterijos bilietų pirkėjų vidutiniškai laimi tik 1, **tai** tarp 100 pirkusių bilietus bus apie 20 laimėjusių.\n",
    "\n",
    "Svoris - sveria, laikas - eina, plotas - užima, telpa ir pan.\n",
    "* 2min = 120s. Per dvi minutes **praeina** 120 sekundžių\n",
    "* 3m² = 300dm². Į tris kvadratinius metrus **telpa** (arba **užima tiek, kiek**) 300 kvadratinių decimetrų\n",
    "* 1.75kg = 1750 g. 1.75 kg **sveria tiek, kiek** 1750 g.\n",
    "\n",
    "### Matavimo vienetų vertimo procesas\n",
    "\n",
    ",,Populiariausi\" priešdėliai: *nano-, mikro-, mili-, kilo-, mega-, giga-, tera-*. Dirbant su ilgiais, plotais, tūriais: *-deci, -centi*\n",
    "\n",
    "Pavyzdys: $\\times\\text{ }0.000001\\text{ } =\\text{ }:1000000$ (pabandyk ,,apversti\" 0.000001 ir gausi 1000000). Tačiau, ar tam tikras priešdėlis vartojamas, priklauso tik nuo matavimo vieneto.\n",
    " \n",
    "|Dydis|Ilgis|Laikas|Svoris|Atmintis|Veiksmas|\n",
    "|-----|-----|------|------|--------|-------|\n",
    "|Pagr. vienetas| 1m (metras)| 1s (sekundė)| 1g (gramas)| 1B (baitas)| - |\n",
    "|-nano| 1nm = 0.000000001m| 1ns = 0.000000001s| 1ng = 0.000000001g| -| : 1 000 000 000|\n",
    "|-mikro| 1µg = 0.000001m| 1µs = 0.000001ms| 1µg = 0.000001g| -| : 1 000 000|\n",
    "|-mili| 1mm = 0.001m| ms = 0.001s| 1mg = 0.001g| -|  : 1000|\n",
    "|-centi| 1cm = 0.01m| -| -|-|  : 100|\n",
    "|-deci| 1dm = 0.1m| -| -| -|  : 10|\n",
    "|-kilo| 1km = 1000m| - | 1kg = 1000g| ~1kB = 1000B|  x1000|\n",
    "|-mega| -| -| -| 1mB= ~1 000 000B|  x1 000 000|\n",
    "|-giga| -| -| -|1gB = ~1 000 000 000B|  x 1 000 000 000 |\n",
    "\n",
    "Daugiau informacijos apie priešdėlius, kiek įdomu - [šioje nuorodoje](https://lt.wikipedia.org/wiki/SI_sistemos_prie%C5%A1d%C4%97liai)  \n",
    "\n",
    "Ploto ir tūrio vienetų vertimas - kitą pamoką.\n",
    "\n",
    "### Reiškiniai\n",
    "**Pateiktas reiškinys. Duota kintamojo reikšmė, rasti reiškinio reikšmę**\n",
    " * Kam lygi reiškinio $x^3-3x$ reikšmė, kai $x=-2$? Sprendimas: $x^3 - 3x = (-2)^3 - 3(-2) = -8 - (-6) = -8 + 6 = -2$\n",
    " * Kam lygi reiškinio $x^3-3x$ reikšmė, kai $x=-1$? Sprendimas: $x^3 - 3x = (-1)^3 - 3(-1) = -1 - (-3) = -1 + 3 = 2$\n",
    " * Kam lygi reiškinio $x^3-3x$ reikšmė, kai $x=0$? Sprendimas: $x^3 - 3x = 0^3 - 3\\cdot 0 = 0 - 0 = 0$\n",
    " * Kam lygi reiškinio $x^3-3x$ reikšmė, kai $x=1$? Sprendimas: $x^3 - 3x = 1^3 - 3\\cdot 1 = 1 - 3 = -2$\n",
    " * Kam lygi reiškinio $x^3-3x$ reikšmė, kai $x=2$? Sprendimas: $x^3 - 3x = 2^3 - 3\\cdot 2 = 8 - 6 = 2$\n",
    " \n",
    "**Pateiktas reiškinys. Duota reiškinio reikšmė, rasti nežinomojo reikšmę**\n",
    "  * Su kuria nežinomojo $x$ reikšme $3x+2 = 17$. Sprendimas: galima atspėti, kad tinka $x=5$. Ateityje norėdami išsiaiškinti, turėsime spręsti lygtis\n",
    "  \n",
    "### Funkcijos\n",
    "\n",
    "**Pavyzdys 1 (valstybinio egzamino 2017m. pirmas uždavinys)** Paveiksle pavaizduotas funkcijos $y=f(x)$ grafikas, kai $-2\\le x \\le 8$. Kokia mažiausia šios funkcijos reikšmė, kai $-2\\le x \\le 8$?\n",
    "\n",
    "<img src=\"vbe2017_func.png\" width=\"200\">  \n",
    "\n",
    "**Sprendimas.** Matome, kad grafikas labiausiai nusileidęs taške $(8; -4)$. Šiame taške funkcijos reikšmė yra $-4$, tad atsakymas $-4$\n",
    "\n",
    "**Pavyzdys 2 (valstybinio egzamino 2015m. 18.1 uždavinio dalis)** Tegu $f(x)=3x^2-12x$. Apskaičiuokite $f(2)$.  \n",
    "\n",
    "**Sprendimas.** $f(2) = 3\\cdot 2^2-12\\cdot 2=3\\cdot 4 - 24 = 12 - 24 = -12$\n",
    "\n",
    "**Pavyzdys 3. Nubraižykite funkcijos $f(x) = x^3 - 3x$ grafiką. Sprendimas:**\n",
    "\n",
    "Randame pirmas keletą reikšmių:\n",
    "    \n",
    "|$$x$$|-2|-1|0|1|2|\n",
    "|:---:|:---:|:---:|:---:|:---:|:---:|\n",
    "|$$f(x)$$|-2|2|0|2|-1|\n",
    "\n",
    "Atidedame jas koordinačių plokštumoje ir bandome sujungti. Reikės sujungti taškus $(-2; -2)$, $(-1; 2)$, $(0; 0)$, $(1; 2)$, $(2; -1)$\n",
    "\n",
    "<img src=\"cubfunc1.png\" width=\"200\">\n",
    "\n",
    "Nelabai graži linija, neaišku, kaip eina grafikas. Reikėtų daugiau taškų:\n",
    "\n",
    "|$$x$$|-2|-1.5|-1|-0.5|0|0.5|1|1.5|2|\n",
    "|:---:|:---:|:---:|:---:|:---:|:---:|:---:|:---:|:---:|:---:|\n",
    "|$$f(x)$$|-2|1.125|1.375|2|0|-1.375|-2|-1.125|2|\n",
    "\n",
    "Nubraižome patikslintą brėžinį:\n",
    "\n",
    "<img src=\"cubfunc2.png\" width=\"200\">\n",
    "\n",
    "Pagražiname linijas:\n",
    "\n",
    "<img src=\"cubfunc3.png\" width=\"200\">\n",
    "\n",
    "-------------------------"
   ]
  },
  {
   "cell_type": "markdown",
   "metadata": {},
   "source": [
    "# Namų darbai"
   ]
  },
  {
   "cell_type": "markdown",
   "metadata": {},
   "source": [
    "* Viename iš savo projektų pateikiu interaktyvią taškinę diagramą, kur lyginu Gotway gamintojo gaminamų vienaračių **baterijos talpą** ir **teorinį nuvažiuojamą atstumą vienu pakrovimu** ([žr. antrą grafiką dešinėje, gali kelias sekundes užtrukti užkrovimas](https://loijord.github.io/EUC/euc_research.html#Insight))\n",
    "  * Paverskite 1.5kWh į Wh (kilovatvalandes į vatvalandes)\n",
    "  * Kurio vienaračio baterijos talpa yra 1.5kWh? Koks jo teorinis nuvažiuojamas atstumas?\n",
    "  * Kurių modelių teorinis nuvažiuojamas atstumas yra mažesnis už 75km? Kokia kiekvieno iš šių modelių baterijos talpa ir teorinis nuvažiuojamas atstumas?\n",
    "  * Tarkime gamintojas 2023m. žada išleisti modelį, kurio baterijos talpa yra 4.4kWh. Koks jo teorinis nuvažiuojamas atstumas galėtų būti arčiausiai tikrovės?\n",
    "  \n",
    "* Nubraižyti funkcijų $f(x)=\\dfrac{4}{x}$ ir $g(x) = x^2 - 6$ grafikus\n",
    "* Pasispręsti: 1, 2, 3, 4, 5 ir 11 uždavinius iš [testo](../../Testai/Testas_9_3/testas_9_3.ipynb)"
   ]
  },
  {
   "cell_type": "markdown",
   "metadata": {},
   "source": [
    "### Pagalbiniai įrankiai\n",
    "\n",
    "* [Grafikų braižymas](https://www.wolframalpha.com/input?i=f%28x%29+%3D+x%5E2+-+6)  \n",
    "* [Kokia reiškinio reikšmė su duota kintamojo reikšme?](https://www.wolframalpha.com/input?i=x%5E2+-+6+where+x%3D-2)  \n",
    "* [Su kuria nežinomojo reikšme reiškinys įgyja duotą reikšmę?](https://www.wolframalpha.com/input?i=3x%2B2%3D26) "
   ]
  }
 ],
 "metadata": {
  "kernelspec": {
   "display_name": "Python 3 (ipykernel)",
   "language": "python",
   "name": "python3"
  },
  "language_info": {
   "codemirror_mode": {
    "name": "ipython",
    "version": 3
   },
   "file_extension": ".py",
   "mimetype": "text/x-python",
   "name": "python",
   "nbconvert_exporter": "python",
   "pygments_lexer": "ipython3",
   "version": "3.9.13"
  }
 },
 "nbformat": 4,
 "nbformat_minor": 1
}
