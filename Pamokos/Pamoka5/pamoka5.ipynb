{
 "cells": [
  {
   "cell_type": "markdown",
   "metadata": {
    "collapsed": true
   },
   "source": [
    "Per pamoką:\n",
    "* Aptarėme, kaip naudotis Geogebra braižant 5 trikampių rūšis.\n",
    "* Apžvelgėme, kur buvo pagrindiniai pasimetimai atliekant namų darbą [Pamokos 4 pav. 2](../Pamoka4/pamoka4.ipynb)"
   ]
  },
  {
   "cell_type": "markdown",
   "metadata": {},
   "source": [
    "### Trikampių skirstymas\n",
    "\n",
    "Trikampiai skirstomi į:  \n",
    "* Smailiuosius (visi kampai smailieji, t.y. $< 90^o$)\n",
    "* Stačiuosius (turi statųjį kampą, t.y. $90^o$)\n",
    "* Bukuosius (turi bukąjį kampą, t.y. $> 90^o$)\n",
    "\n",
    "Taip pat galima išskirti atskirus atvejus:\n",
    "\n",
    "* *Lygiašonis trikampis* - trikampis, kuriame yra dvi lygios kraštinės\n",
    "* *Lygiakraštis trikampis* - trikampis, kurio visos kraštinės lygios\n",
    "\n",
    "### Trikampių sąvokos\n",
    "\n",
    "* **Trikampis** - geometrinė figūra, turinti tris viršūnes ir tris kraštines.\n",
    "* **Kraštinė** (bendru atveju) - atkarpa, ribojanti geometrinę figūrą.\n",
    "* **Aukštinė** (bendru atveju) - statmenos tiesės dalis, jungianti tašką ir tam tikrą liniją (tiesė yra statmena tai linijai). Dažniausiai taip ir sakome: *aukštinė, einanti iš taško į atkarpą*.\n",
    "* **Trikampio pagrindas** - pasirinkta kraštinė (dažniausiai ta, į kurią patogu nuleisti aukštinę; nebūtinai ta, kuri yra brėžinio apačioje). Geometriniuose uždaviniuose dažnai kalbama apie trikampio *kampus prie pagrindo* arba *kraštines prie pagrindo*\n",
    "* **Stačiojo trikampio statiniai** - stačiojo trikampio kraštinė prie stačiojo kampo.\n",
    "* **Stačiojo trikampio įžambinė** - trikampio kraštinės prie stačiojo kampo.\n",
    "\n",
    "### Svarbiausios taisyklės:\n",
    "\n",
    "* Trikampio kampų suma lygi $180^o$\n",
    "* Trikampio kampai prie pagrindo lygūs tada ir tik tada, kai kampai prie to pagrindo lygūs\n",
    "\n",
    "### Trikampių konstrukcija\n",
    "\n",
    "**Pasvarstymui**. \n",
    "\n",
    "1\\. Turime po tris geometrinius objektus: tris nurodyto dydžio kampus ir tris nurodyto ilgio atkarpas. Kokius tris objektus aš galiu pasirinkti, kad, nepriklausomai nuo to, kaip juos išdėlioju, man visada gautųsi vienodi trikampiai?  \n",
    "2\\. Ar galima pasakyti ką nors apie stačiojo trikampio proporcijas, jei jis nėra ($45^o$, $45^o$, $90^o$) arba ($30^o$, $60^o$, $90^o$)?  \n",
    "3\\. Ar apie trikampį visada vieninteliu būdu galima apibrėžti skritulį? O įbrėžti?\n",
    "\n",
    "\n",
    "### Kitos taisyklės:\n",
    "**Specialieji trikampiai**. Tam tikrais stačiųjų trikampių atvejais galima šiek tiek daugiau pasakyti apie kraštinių proporcijas.\n",
    "* ($45^o$, $45^o$, $90^o$) trikampio abu statiniai lygūs (nes galima įsivaizduoti kaip pusę kvadrato)\n",
    "* ($30^o$, $60^o$, $90^o$) statinis prieš $30^0$ kampą lygus pusei įžambinės (nes galima įsivaizduoti kaip pusę lygiakraščio trikampio)\n",
    "\n",
    "**Piatagoro teorema**. Jei trikampis yra statusis, $a$ ir $b$ - jo statinių ilgiai, o $c$ - įžambinė, tai galioja lygybė:\n",
    "$\\boxed{a^2+b^2=c^2}$"
   ]
  },
  {
   "cell_type": "markdown",
   "metadata": {},
   "source": [
    "### Pavyzdys\n",
    "\n",
    "Įrodyti, kad statusis trikampis su $45^o$ kampu yra lygiašonis."
   ]
  }
 ],
 "metadata": {
  "kernelspec": {
   "display_name": "Python 3 (ipykernel)",
   "language": "python",
   "name": "python3"
  },
  "language_info": {
   "codemirror_mode": {
    "name": "ipython",
    "version": 3
   },
   "file_extension": ".py",
   "mimetype": "text/x-python",
   "name": "python",
   "nbconvert_exporter": "python",
   "pygments_lexer": "ipython3",
   "version": "3.9.13"
  }
 },
 "nbformat": 4,
 "nbformat_minor": 1
}
