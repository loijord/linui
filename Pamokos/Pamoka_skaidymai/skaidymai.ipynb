{
 "cells": [
  {
   "cell_type": "markdown",
   "metadata": {
    "collapsed": true
   },
   "source": [
    "# Skaidymai: taikant lygybę $a(b+c) = ab + ac$"
   ]
  },
  {
   "cell_type": "markdown",
   "metadata": {},
   "source": [
    "**Pavyzdys 1.**\n",
    "\n",
    "Galime paimti tam tikrą konkretų atvejį. Pvz. $\\begin{cases} a \\to 3x \\\\ b \\to x \\\\ c \\to -4 \\end{cases}$\n",
    "\n",
    "Tada turėsime lygybę $3x(x - 4) = 3x^2 - 12x$\n",
    "\n",
    "* Pakeitimas $\\boxed{3x(x - 4)} \\Rightarrow \\boxed{3x^2 - 12x}$ dažniausiai vadovėliuose yra vadinamas **atskliaudimu**\n",
    "* Atvirkščias pakeitimas $\\boxed{3x^2 - 12x} \\Rightarrow \\boxed{3x(x - 4)}$ dažniausiai yra vadinamas **dauginamojo iškėlimu prieš skliaustus**. Tai yra vienas iš **skaidymo dauginamaisiais** pavyzdžių \n",
    "\n"
   ]
  },
  {
   "cell_type": "markdown",
   "metadata": {},
   "source": [
    "**Pavyzdys 2.**\n",
    "\n",
    "$a(b+c+d) = ab + ac + ad$"
   ]
  },
  {
   "cell_type": "markdown",
   "metadata": {},
   "source": [
    "**Pavyzdys 3A. Skaidymo grupavimo pirmas būdas** $ac+ad+bc+bd = (a+b)c + (a+b)d = (a+b)(c+d)$"
   ]
  },
  {
   "cell_type": "markdown",
   "metadata": {},
   "source": [
    "**Pavyzdys 3B. Antras būdas** $ac+ad+bc+bd = a(c+d) + b(c+d) = (a+b)(c+d)$"
   ]
  },
  {
   "cell_type": "markdown",
   "metadata": {},
   "source": [
    "# Tiesinės lygtys\n",
    "## Apibrėžimai\n",
    "\n",
    "* Matematinis teiginys - tai kintamasis, galintis įgyti tik dvi reikšmes (teisinga, neteisinga)\n",
    "* Lygybė - tai matematinis teiginys, kuriuo nurodoma, kad dvi skirtingos išraiškos turi tą pačią reikšmę.\n",
    "* Lygtis - tai lygybė, kuriai yra prasminga ieškoti nežinomojo reikšmių, su kuriomis ji tampa teisinga.\n",
    "* Nelygybė - tai matematinis teiginys, kuriuo nurodoma, kad viena išraiška turi didesnę (kartais tą pačią) reikšmę už kitą. Prasminga ieškoti nežinomojo reikšmių, su kuriomis ji tampa teisinga.\n",
    "* Nežinomasis - tai kintamasis, kurio reikšmės ieškojimas yra prasmingas."
   ]
  },
  {
   "cell_type": "markdown",
   "metadata": {},
   "source": [
    "## Paprasčiausios lygtys\n",
    "\n",
    "Pamėginsiu suklasifikuoti pačių paprasčiausių lygčių pavyzdžius ir trumpai apibūdinti sprendimo taisykles\n",
    "#### Klasė 1 (atsakymai - sveikieji skaičiai)\n",
    "1. $32=-x$\n",
    "\n",
    "2. $-8=2x$\n",
    "\n",
    "3. $36=-3x$\n",
    "\n",
    "4. $5x=-30$\n",
    "\n",
    "5. $-36=4x$\n",
    "\n",
    "6. $-14=2x$\n",
    "\n",
    "7. $-28=4x$\n",
    "\n",
    "8. $36=6x$\n",
    "\n",
    "9. $-3x=-27$\n",
    "\n",
    "10. $24=6x$\n",
    "\n",
    "#### Sprendimas: $\\boxed{Ax = B} \\Leftrightarrow \\boxed{x = \\frac{B}{A}}$. Pvz.: $\\boxed{4x = -28} \\Leftrightarrow \\boxed{x = -4}$  (abejų pusių dalyba iš $x$ daugiklio)\n",
    "#### Klasė 2 (atsakymai - nebūtinai sveikieji skaičiai)\n",
    "1. $-32=9x$\n",
    "\n",
    "2. $-x=9$\n",
    "\n",
    "3. $-6x=32$\n",
    "\n",
    "4. $-30=-8x$\n",
    "\n",
    "5. $-35=4x$\n",
    "\n",
    "6. $-24=-2x$\n",
    "\n",
    "7. $18=-4x$\n",
    "\n",
    "8. $8x=-40$\n",
    "\n",
    "9. $-5x=-36$\n",
    "\n",
    "10. $8=4x$\n",
    "\n",
    "#### Sprendimas: $\\boxed{Ax = B} \\Leftrightarrow \\boxed{x = \\frac{B}{A}}$. Pvz.: $\\boxed{-4x = -29} \\Leftrightarrow \\boxed{x = \\frac{-29}{-4} = {\\Large{7}}\\frac{1}{4}}$ (dalyba iš $x$ daugiklio)\n",
    "#### Klasė 3 (atsakymai - sveikieji skaičiai)\n",
    "1. $-6=x + 5$\n",
    "\n",
    "2. $-6=x - 6$\n",
    "\n",
    "3. $1=x + 8$\n",
    "\n",
    "4. $x - 1=-2$\n",
    "\n",
    "5. $4=x - 8$\n",
    "\n",
    "6. $x - 1=5$\n",
    "\n",
    "7. $x + 2=-7$\n",
    "\n",
    "8. $-2=x + 3$\n",
    "\n",
    "9. $9=x + 1$\n",
    "\n",
    "10. $x + 8=9$\n",
    "\n",
    "#### Sprendimas: $\\boxed{x + A = B} \\Leftrightarrow \\boxed{x = B - A}$. Pvz.: $\\boxed{x - 4 = -29} \\Leftrightarrow \\boxed{x = -29 + 4 = -25}$ (dėmens perkėlimas į kitą pusę)\n",
    "\n",
    "#### Klasė 4 (atsakymai - sveikieji skaičiai)\n",
    "1. $x=2x - 4$\n",
    "\n",
    "2. $3x + 6=4x$\n",
    "\n",
    "3. $2x - 7=x$\n",
    "\n",
    "4. $-4x - 2=-5x$\n",
    "\n",
    "5. $-6x - 3=-3x$\n",
    "\n",
    "6. $-x=7x - 8$\n",
    "\n",
    "7. $4x=5x + 9$\n",
    "\n",
    "8. $5x=7x + 8$\n",
    "\n",
    "9. $3 - 7x=-4x$\n",
    "\n",
    "10. $-2x - 4=-4x$\n",
    "\n",
    "#### Sprendimas: $\\boxed{Ax + B = C} \\Leftrightarrow \\boxed{Ax = C - B} \\Leftrightarrow \\boxed{Ax = \\frac{C - B}{A}}$. Pvz.: $\\boxed{5x - 4 = -29} \\Leftrightarrow \\boxed{5x = -29 + 4} \\Leftrightarrow \\boxed{5x = -25} = \\Leftrightarrow \\boxed{x = -5}$ (Klasės 3 sprendimas nario $Ax$ atžvilgiu, tada taikomas klasės 1 sprendimas)\n",
    "#### Lygis 5 (atsakymai - sveikieji skaičiai)\n",
    "1. $2x + 3=3x + 5$\n",
    "\n",
    "2. $1 - 4x=5x - 8$\n",
    "\n",
    "3. $4x - 3=3x - 8$\n",
    "\n",
    "4. $9x + 9=7x + 1$\n",
    "\n",
    "5. $6 - 6x=2 - 5x$\n",
    "\n",
    "6. $x + 4=2x + 4$\n",
    "\n",
    "7. $9x + 2=2x - 5$\n",
    "\n",
    "8. $4x - 2=6x - 2$\n",
    "\n",
    "9. $-2x - 3=x + 9$\n",
    "\n",
    "10. $x - 2=2x - 1$\n",
    "\n",
    "#### Sprendimas: $\\boxed{Ax + B = Cx + D} \\Leftrightarrow \\boxed{Ax - Cx = D - B} \\Leftrightarrow \\boxed{(A-C)x = D - B\\ \\Leftrightarrow x = \\frac{D - B}{A - C}}$. Pvz.: $\\boxed{5x - 4 = -28 - x} \\Leftrightarrow \\boxed{5x + x= -28 + 4} \\Leftrightarrow \\boxed{6x = -24} = \\Leftrightarrow \\boxed{x = -4}$ (Panašiųjų narių sukėlimas į vienodas puses, tada taikomas klasės 1 sprendimas)"
   ]
  },
  {
   "cell_type": "markdown",
   "metadata": {},
   "source": [
    "## Paprasčiausios nelygybės\n",
    "\n",
    "Visos nelygybės sprendžiamos taip pat, kaip ir lygtys, tik taikoma papildoma taisyklė: vos tik dalijama iš neigiamo skaičiaus, keičiasi nelygybės ženklas.\n",
    "\n",
    "Pvz.: $\\boxed{5x - 4 \\ge -28 - x} \\Leftrightarrow \\boxed{5x + x \\ge -28 + 4} \\Leftrightarrow \\boxed{6x \\ge -24} = \\Leftrightarrow \\boxed{x \\ge -4}$ (Viskas ok, nelygybės ženklas nesikeitė)\n",
    "\n",
    "\n",
    "Pvz.: $\\boxed{-5x - 4 \\ge -28 - x} \\Leftrightarrow \\boxed{-5x + x \\ge -28 + 4} \\Leftrightarrow \\boxed{-4x \\ge -24} = \\Leftrightarrow \\boxed{x \\le 6}$ (Atsargiai, nelygybės ženklas pasikeitė)"
   ]
  },
  {
   "cell_type": "markdown",
   "metadata": {},
   "source": [
    "### Kodėl sprendimo taisyklės būtent tokios?\n",
    "\n",
    "Pakankamai gerai veikianti analogija su lygtimis - svarstyklės. Tiesa, veikianti ne visuomet, nes svarstyklių abejų pusių nė vienas svoris negali būti neigiamas (kai per didelį svorį atimame). Taip pat negalima abejas svarstyklių puses ,,palengvinti\" neigiamu kartų skaičiumi. Plačiau apie svarstyklės pavyzdį - [šioje nuorodoje pateiktose skaidrėse](https://github.com/loijord/matematikos_pamokos/blob/master/programa/Martynas/Martynui.ipynb)\n",
    "\n",
    "Triukų, kurie netinkami svarstyklėms, bet tinkami lygtims, ,,legalizavimas\" - vienas iš pavyzdžių, kaip žmonija, suteikdama skaičiui abstraktesnę prasmę negu anksčiau buvo priimta (leidusi naudoti neigiamas jo reikšmes), atvėrė kur kas didesnes galimybes skaičiaus pritaikymui. Maždaug pora amžių nuo renesanso pradžios neigiami skaičiai buvo mįslingas, visų matematikų vengtinas objektas."
   ]
  }
 ],
 "metadata": {
  "kernelspec": {
   "display_name": "Python 3 (ipykernel)",
   "language": "python",
   "name": "python3"
  },
  "language_info": {
   "codemirror_mode": {
    "name": "ipython",
    "version": 3
   },
   "file_extension": ".py",
   "mimetype": "text/x-python",
   "name": "python",
   "nbconvert_exporter": "python",
   "pygments_lexer": "ipython3",
   "version": "3.9.13"
  }
 },
 "nbformat": 4,
 "nbformat_minor": 1
}
