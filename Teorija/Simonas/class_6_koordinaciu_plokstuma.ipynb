{
 "cells": [
  {
   "cell_type": "markdown",
   "metadata": {},
   "source": [
    "### Koordinačių plokštuma"
   ]
  },
  {
   "cell_type": "markdown",
   "metadata": {
    "collapsed": true
   },
   "source": [
    "Buvo pasiūlyta Dekarto prieš 400m. norint daug paprasčiau aprašyti kūnų judėjimą. Iš pradžių koordinatėse pažymimos ašys, paskui vaizduojami taškai:\n",
    "\n",
    "![](class_6_koordinaciu_plokstuma_img_1.png)\n",
    "\n",
    "Žymėjimas, naudojamas pažymėti taško koordinatėms: $M(x;y)$ arba $(x;y)$. Čia $\\begin{cases} M\\text{ - taško pavadinimas} \\\\ {x}\\text{ - poslinkis }x\\text{ ašies kryptimi}\\\\ {y}\\text{ - poslinkis }y\\text{ ašies kryptimi}\\end{cases}$\n",
    "\n",
    "Pateiktame pavyzdyje koordinačių plokštumoje buvo pažymėti taškai: $A(4; 2)$, $B(-3; 5)$ ir $C(-2; -5)$"
   ]
  }
 ],
 "metadata": {
  "kernelspec": {
   "display_name": "Python 3 (ipykernel)",
   "language": "python",
   "name": "python3"
  },
  "language_info": {
   "codemirror_mode": {
    "name": "ipython",
    "version": 3
   },
   "file_extension": ".py",
   "mimetype": "text/x-python",
   "name": "python",
   "nbconvert_exporter": "python",
   "pygments_lexer": "ipython3",
   "version": "3.9.13"
  }
 },
 "nbformat": 4,
 "nbformat_minor": 1
}
